{
 "cells": [
  {
   "cell_type": "markdown",
   "metadata": {},
   "source": [
    "### 20181202~9999~w--~JG-NW~Raspberry Pi Set-up~A~0"
   ]
  },
  {
   "cell_type": "markdown",
   "metadata": {},
   "source": [
    "### Refs"
   ]
  },
  {
   "cell_type": "markdown",
   "metadata": {},
   "source": [
    "#### Raspberry Pi Set-Up General\n",
    "https://towardsdatascience.com/raspberry-pi-3-for-the-first-time-50634b115620\n",
    "\n",
    "#### Etcher - software for writing image to SD card or USB\n",
    "note. only required if you're installing Rasbian rather than NOOBs. NOOBs only requires .zip file to be copied onto the SD card and then the set-up happens on the SD card. \n",
    "\n",
    "https://www.balena.io/etcher/. \n",
    "[Install Etcher on Linux Version 18.04](https://www.linuxhelp.com/how-to-install-etcher-image-editor-on-ubuntu-18-04)\n",
    "\n",
    "#### Get Raspian OS\n",
    "https://www.raspberrypi.org/documentation/installation/installing-images/README.md"
   ]
  },
  {
   "cell_type": "markdown",
   "metadata": {},
   "source": [
    "#### Our Raspberry Pi (2011 - later Model B)\n",
    "https://elinux.org/File:RPi-Front-JPB.jpg\n",
    "\n",
    "https://elinux.org/RPi_Hardware"
   ]
  },
  {
   "cell_type": "code",
   "execution_count": 1,
   "metadata": {},
   "outputs": [
    {
     "data": {
      "text/html": [
       "<img src=\"https://elinux.org/images/a/a1/RPi-Front-JPB.jpg\"/>"
      ],
      "text/plain": [
       "<IPython.core.display.Image object>"
      ]
     },
     "execution_count": 1,
     "metadata": {},
     "output_type": "execute_result"
    }
   ],
   "source": [
    "from IPython.display import Image\n",
    "from IPython.core.display import HTML \n",
    "Image(url= \"https://elinux.org/images/a/a1/RPi-Front-JPB.jpg\")"
   ]
  },
  {
   "cell_type": "code",
   "execution_count": null,
   "metadata": {},
   "outputs": [],
   "source": []
  }
 ],
 "metadata": {
  "kernelspec": {
   "display_name": "Python 3",
   "language": "python",
   "name": "python3"
  },
  "language_info": {
   "codemirror_mode": {
    "name": "ipython",
    "version": 3
   },
   "file_extension": ".py",
   "mimetype": "text/x-python",
   "name": "python",
   "nbconvert_exporter": "python",
   "pygments_lexer": "ipython3",
   "version": "3.7.0"
  }
 },
 "nbformat": 4,
 "nbformat_minor": 2
}
