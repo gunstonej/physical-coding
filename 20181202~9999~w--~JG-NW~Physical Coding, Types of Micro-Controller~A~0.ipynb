{
 "cells": [
  {
   "cell_type": "code",
   "execution_count": 16,
   "metadata": {},
   "outputs": [],
   "source": [
    "from IPython.display import HTML\n",
    "def new_section(title,bckgrnd_clr,dpth,fnt_sze):  \n",
    "    '''\n",
    "    add a new section in Jupyter\n",
    "    \n",
    "    name:\n",
    "        20180609~3870~dev~pyfnctn~jg~html-section-heading~A~0\n",
    "    tags:\n",
    "        html, formatting, section-heading\n",
    "    Args: \n",
    "         title (string): \n",
    "         bckgrnd_clr (string): hex colour code, can give html gradient\n",
    "         dpth (float): depth of section heading\n",
    "         fnt_sze (string): font size of title, give in format '#.#em'\n",
    "    Example:\n",
    "\t\timport jupyter_formatting as jf\n",
    "\t\ttitle=\"Introduction\"\n",
    "\t\tbckgrnd_clr=\"#C39BD3\"\n",
    "\t\tdpth=40\n",
    "\t\tfnt_sze='1.6em'\n",
    "\t\t#jf.new_section(title,bckgrnd_clr,dpth,fnt_sze)\n",
    "    References:\n",
    "        https://htmlcolorcodes.com/\n",
    "        https://www.w3schools.com/css/css3_gradients.asp\n",
    "        https://dribbble.com/shots/2840177-Free-Gradients-Sketch-file-with-color-code/attachments/584085\n",
    "    '''  \n",
    "    \n",
    "    dpth=str(dpth)\n",
    "    styl=\"text-align:left;background:\"+bckgrnd_clr+\";padding:\"+dpth+\"px;color:#17202A;font-size:\"+fnt_sze+\";\"\n",
    "    \n",
    "    # formatting HTML: \n",
    "    # https://www.w3schools.com/Html/html_formatting.asp\n",
    "    # title = title + '<br />' + '<br />' + '<small> <i> date_job-no_info-category_info-type_author_description_revision_enumerator <i> <small>'\n",
    "    style = styl\n",
    "    return HTML('<div style=\"{}\">{}</div>'.format(style, title))\n",
    "\n",
    "    "
   ]
  },
  {
   "cell_type": "code",
   "execution_count": 28,
   "metadata": {},
   "outputs": [
    {
     "data": {
      "text/html": [
       "<script>\n",
       "code_show=true; \n",
       "function code_toggle() {\n",
       " if (code_show){\n",
       " $('div.input').hide();\n",
       " } else {\n",
       " $('div.input').show();\n",
       " }\n",
       " code_show = !code_show\n",
       "} \n",
       "$( document ).ready(code_toggle);\n",
       "</script>\n",
       "  show / hide code <a href=\"javascript:code_toggle()\">here</a>."
      ],
      "text/plain": [
       "<IPython.core.display.HTML object>"
      ]
     },
     "execution_count": 28,
     "metadata": {},
     "output_type": "execute_result"
    }
   ],
   "source": [
    "HTML('''<script>\n",
    "code_show=true; \n",
    "function code_toggle() {\n",
    " if (code_show){\n",
    " $('div.input').hide();\n",
    " } else {\n",
    " $('div.input').show();\n",
    " }\n",
    " code_show = !code_show\n",
    "} \n",
    "$( document ).ready(code_toggle);\n",
    "</script>\n",
    "  show / hide code <a href=\"javascript:code_toggle()\">here</a>.''')"
   ]
  },
  {
   "cell_type": "code",
   "execution_count": 10,
   "metadata": {},
   "outputs": [
    {
     "data": {
      "text/html": [
       "<div style=\"text-align:left;background:#C39BD3;padding:40px;color:#17202A;font-size:1.6em;\">20181202~9999~W--~JG-NW~Physical Coding, Types of Micro-Controller~A~0</div>"
      ],
      "text/plain": [
       "<IPython.core.display.HTML object>"
      ]
     },
     "execution_count": 10,
     "metadata": {},
     "output_type": "execute_result"
    }
   ],
   "source": [
    "title=\"20181202~9999~W--~JG-NW~Physical Coding, Types of Micro-Controller~A~0\"\n",
    "bckgrnd_clr=\"#C39BD3\"\n",
    "dpth=40\n",
    "fnt_sze='1.6em'\n",
    "new_section(title,bckgrnd_clr,dpth,fnt_sze)"
   ]
  },
  {
   "cell_type": "markdown",
   "metadata": {},
   "source": [
    "## Raspberry Pi\n",
    "\n",
    "### Overview\n",
    "- Requires install of Raspian OS (light OS based on Debian)\n",
    "- Therefore runs like a mini-computer\n",
    "- Typically programming done in Python\n",
    "\n",
    "#### Raspberry Pi Set-Up General\n",
    "https://towardsdatascience.com/raspberry-pi-3-for-the-first-time-50634b115620\n",
    "\n",
    "#### Etcher - software for writing image to SD card or USB\n",
    "note. only required if you're installing Rasbian rather than NOOBs. NOOBs only requires .zip file to be copied onto the SD card and then the set-up happens on the SD card. \n",
    "\n",
    "https://www.balena.io/etcher/. \n",
    "[Install Etcher on Linux Version 18.04](https://www.linuxhelp.com/how-to-install-etcher-image-editor-on-ubuntu-18-04)\n",
    "\n",
    "#### Get Raspian OS\n",
    "https://www.raspberrypi.org/documentation/installation/installing-images/README.md\n",
    "\n",
    "#### Our Raspberry Pi (2011 - later Model B)\n",
    "https://elinux.org/File:RPi-Front-JPB.jpg\n",
    "\n",
    "https://elinux.org/RPi_Hardware"
   ]
  },
  {
   "cell_type": "code",
   "execution_count": 12,
   "metadata": {},
   "outputs": [
    {
     "data": {
      "text/html": [
       "<img src=\"https://elinux.org/images/a/a1/RPi-Front-JPB.jpg\" width=\"500\" height=\"100\"/>"
      ],
      "text/plain": [
       "<IPython.core.display.Image object>"
      ]
     },
     "execution_count": 12,
     "metadata": {},
     "output_type": "execute_result"
    }
   ],
   "source": [
    "from IPython.display import Image\n",
    "from IPython.core.display import HTML \n",
    "Image(url= \"https://elinux.org/images/a/a1/RPi-Front-JPB.jpg\",width=500, height=100)"
   ]
  },
  {
   "cell_type": "markdown",
   "metadata": {},
   "source": [
    "## Micropython\n",
    "\n",
    "https://micropython.org/\n",
    "\n",
    "http://www.microdev.it/wp/en/2018/08/08/esp32-micropython-compiling-for-esp32/\n",
    "\n"
   ]
  },
  {
   "cell_type": "code",
   "execution_count": 24,
   "metadata": {},
   "outputs": [
    {
     "name": "stdout",
     "output_type": "stream",
     "text": [
      "https://micropython.org/\n"
     ]
    },
    {
     "data": {
      "text/html": [
       "<img src=\"http://micropython.org/resources/pybv10-pinout.jpg\" width=\"500\" height=\"100\"/>"
      ],
      "text/plain": [
       "<IPython.core.display.Image object>"
      ]
     },
     "metadata": {},
     "output_type": "display_data"
    },
    {
     "name": "stdout",
     "output_type": "stream",
     "text": [
      "https://pycom.io/\n"
     ]
    },
    {
     "data": {
      "text/html": [
       "<img src=\"https://i2.wp.com/pycom.io/wp-content/uploads/2018/08/fipyMultiPack1.1.png?fit=1000%2C1000&ssl=1\" width=\"500\" height=\"100\"/>"
      ],
      "text/plain": [
       "<IPython.core.display.Image object>"
      ]
     },
     "metadata": {},
     "output_type": "display_data"
    }
   ],
   "source": [
    "print('https://micropython.org/')\n",
    "display(Image(url= \"http://micropython.org/resources/pybv10-pinout.jpg\",width=500, height=100))\n",
    "print('https://pycom.io/')\n",
    "display(Image(url='https://i2.wp.com/pycom.io/wp-content/uploads/2018/08/fipyMultiPack1.1.png?fit=1000%2C1000&ssl=1',width=500, height=100))"
   ]
  },
  {
   "cell_type": "markdown",
   "metadata": {},
   "source": [
    "## espressif 32 development boards\n"
   ]
  },
  {
   "cell_type": "code",
   "execution_count": 27,
   "metadata": {},
   "outputs": [
    {
     "name": "stdout",
     "output_type": "stream",
     "text": [
      "https://www.espressif.com/en/products/hardware/development-boards\n"
     ]
    },
    {
     "data": {
      "text/html": [
       "<img src=\"https://www.espressif.com/sites/default/files/Espressif/ESP32-WROOM-32%20BANNER_1_0.jpg\" width=\"500\" height=\"100\"/>"
      ],
      "text/plain": [
       "<IPython.core.display.Image object>"
      ]
     },
     "metadata": {},
     "output_type": "display_data"
    }
   ],
   "source": [
    "print('https://www.espressif.com/en/products/hardware/development-boards')\n",
    "display(Image(url='https://www.espressif.com/sites/default/files/Espressif/ESP32-WROOM-32%20BANNER_1_0.jpg',width=500, height=100))"
   ]
  },
  {
   "cell_type": "markdown",
   "metadata": {},
   "source": [
    "\n",
    "\n",
    "### Overview\n",
    "- high-quality, cheap IOT development boards\n",
    "- supported by [IDE written in C](https://platformio.org/platformio-ide)\n",
    "- Firmware can be updated to support Micropython but then you lose accesss to the \n",
    "    - http://www.microdev.it/wp/en/2018/08/08/esp32-micropython-compiling-for-esp32/\n",
    "    - https://github.com/micropython/micropython/tree/master/ports/esp32\n",
    "    \n",
    "- you can program esp-32 ecosystem using python [zerynth-introduces-python-esp32](https://www.espressif.com/en/media_overview/news/zerynth-introduces-python-esp32)\n",
    "    - https://www.zerynth.com/\n"
   ]
  },
  {
   "cell_type": "code",
   "execution_count": null,
   "metadata": {},
   "outputs": [],
   "source": []
  }
 ],
 "metadata": {
  "kernelspec": {
   "display_name": "Python 3",
   "language": "python",
   "name": "python3"
  },
  "language_info": {
   "codemirror_mode": {
    "name": "ipython",
    "version": 3
   },
   "file_extension": ".py",
   "mimetype": "text/x-python",
   "name": "python",
   "nbconvert_exporter": "python",
   "pygments_lexer": "ipython3",
   "version": "3.6.0"
  },
  "toc": {
   "base_numbering": 1,
   "nav_menu": {},
   "number_sections": false,
   "sideBar": false,
   "skip_h1_title": false,
   "title_cell": "Table of Contents",
   "title_sidebar": "Contents",
   "toc_cell": false,
   "toc_position": {},
   "toc_section_display": false,
   "toc_window_display": false
  }
 },
 "nbformat": 4,
 "nbformat_minor": 2
}
